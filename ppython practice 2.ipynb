{
 "cells": [
  {
   "cell_type": "code",
   "execution_count": 1,
   "id": "8edd4812-ad01-4be4-bcb8-b629057ce366",
   "metadata": {},
   "outputs": [
    {
     "name": "stdout",
     "output_type": "stream",
     "text": [
      "The addition of a+b: 9\n"
     ]
    }
   ],
   "source": [
    "a = 5\n",
    "b = 4\n",
    "print (\"The addition of a+b:\",a+b)"
   ]
  },
  {
   "cell_type": "code",
   "execution_count": 17,
   "id": "7fd18ad1-ef19-427c-979c-262f70fdf9d5",
   "metadata": {},
   "outputs": [
    {
     "name": "stdin",
     "output_type": "stream",
     "text": [
      "Enter the num1: 5.6\n",
      "Enter the num2: 6.8\n"
     ]
    },
    {
     "name": "stdout",
     "output_type": "stream",
     "text": [
      "The addition of two values: 12.399999999999999\n"
     ]
    }
   ],
   "source": [
    "num1 = input (\"Enter the num1:\")\n",
    "num2 = input(\"Enter the num2:\")\n",
    "\n",
    "sum = float(num1) + float(num2)\n",
    "\n",
    "print (\"The addition of two values:\", sum)"
   ]
  },
  {
   "cell_type": "code",
   "execution_count": 27,
   "id": "6489b3a5-ed22-432a-88ed-e6adb720b65e",
   "metadata": {},
   "outputs": [
    {
     "name": "stdout",
     "output_type": "stream",
     "text": [
      "The square root of a: 6.0\n"
     ]
    }
   ],
   "source": [
    "import math \n",
    "a= 36\n",
    "print(\"The square root of a:\",math.sqrt(a))\n"
   ]
  },
  {
   "cell_type": "code",
   "execution_count": 37,
   "id": "7a61106a-cc80-4d70-93f2-ffe10fa6a7bf",
   "metadata": {},
   "outputs": [
    {
     "name": "stdin",
     "output_type": "stream",
     "text": [
      "Enter the value of a: 5\n",
      "Enter the value of b: 6\n",
      "Enter the value of c: 7\n"
     ]
    },
    {
     "name": "stdout",
     "output_type": "stream",
     "text": [
      "The area of the triangle: 14.696938456699069\n"
     ]
    }
   ],
   "source": [
    "a = float(input(\"Enter the value of a:\"))\n",
    "b = float(input(\"Enter the value of b:\"))\n",
    "c = float(input(\"Enter the value of c:\"))\n",
    "\n",
    "s = (a+b+c) / 2\n",
    "\n",
    "area = (s*(s-a)*(s-b)*(s-c))** 0.5\n",
    "print (\"The area of the triangle:\", area)"
   ]
  },
  {
   "cell_type": "code",
   "execution_count": 39,
   "id": "e5f77156-2cc1-4c6d-9262-10f7c9059f33",
   "metadata": {},
   "outputs": [
    {
     "name": "stdout",
     "output_type": "stream",
     "text": [
      "The solution are -3.0 and -2.0\n"
     ]
    }
   ],
   "source": [
    "import math\n",
    "\n",
    "a = 1\n",
    "b = 5\n",
    "c = 6\n",
    "\n",
    "d = (b**2) - (4*a*c)\n",
    "\n",
    "sol1 = (-b-math.sqrt(d))/(2*a)\n",
    "sol2 = (-b+math.sqrt(d))/(2*a)\n",
    "\n",
    "print('The solution are {0} and {1}'.format(sol1,sol2))"
   ]
  },
  {
   "cell_type": "code",
   "execution_count": 41,
   "id": "1c694588-c549-4ba4-a5b8-10de1ba30beb",
   "metadata": {},
   "outputs": [
    {
     "name": "stdout",
     "output_type": "stream",
     "text": [
      "swap of X: 6\n",
      "swap of y: 5\n"
     ]
    }
   ],
   "source": [
    "x = 5\n",
    "y = 6\n",
    "\n",
    "temp = x\n",
    "x = y\n",
    "y = temp\n",
    "\n",
    "print (\"swap of X:\", x)\n",
    "print (\"swap of y:\", y)"
   ]
  },
  {
   "cell_type": "code",
   "execution_count": 45,
   "id": "1fb663c7-f4f0-4680-8d04-d4d5e75671ab",
   "metadata": {},
   "outputs": [
    {
     "name": "stdout",
     "output_type": "stream",
     "text": [
      "5\n"
     ]
    }
   ],
   "source": [
    "import random\n",
    "print (random.randint(0,9))"
   ]
  },
  {
   "cell_type": "code",
   "execution_count": 51,
   "id": "3e3f1a73-80ad-401d-92c6-dbd5b5bd5a13",
   "metadata": {},
   "outputs": [
    {
     "name": "stdin",
     "output_type": "stream",
     "text": [
      "Enter the value of KM: 10\n"
     ]
    },
    {
     "name": "stdout",
     "output_type": "stream",
     "text": [
      "Miles: 6.2\n"
     ]
    }
   ],
   "source": [
    "kilometer = float(input(\"Enter the value of KM:\"))\n",
    "\n",
    "miles = kilometer * 0.62\n",
    "\n",
    "print (\"Miles:\", miles)"
   ]
  },
  {
   "cell_type": "code",
   "execution_count": 14,
   "id": "edf61114-6a82-4310-bc19-9c5f95ebdc6a",
   "metadata": {},
   "outputs": [
    {
     "name": "stdout",
     "output_type": "stream",
     "text": [
      "<module 'numpy.version' from 'C:\\\\Users\\\\Admin\\\\AppData\\\\Local\\\\anaconda3\\\\Lib\\\\site-packages\\\\numpy\\\\version.py'>\n"
     ]
    }
   ],
   "source": [
    "import numpy as np\n",
    "print(np.version)"
   ]
  },
  {
   "cell_type": "code",
   "execution_count": 26,
   "id": "bf4c33d0-68b1-4486-9736-bdb0dc38ed19",
   "metadata": {},
   "outputs": [
    {
     "data": {
      "text/plain": [
       "0     1\n",
       "1     2\n",
       "2     3\n",
       "3     4\n",
       "4     5\n",
       "5     6\n",
       "6     7\n",
       "7     8\n",
       "8     9\n",
       "9    10\n",
       "dtype: int64"
      ]
     },
     "execution_count": 26,
     "metadata": {},
     "output_type": "execute_result"
    }
   ],
   "source": [
    "import pandas as pd\n",
    "s = pd.Series([x for x in range (1,11)])\n",
    "s"
   ]
  },
  {
   "cell_type": "code",
   "execution_count": 30,
   "id": "ef59c127-7f0b-440a-8121-e962ec0d55d9",
   "metadata": {},
   "outputs": [
    {
     "data": {
      "text/plain": [
       "<pandas.core.indexing._iLocIndexer at 0x1f6f1308fa0>"
      ]
     },
     "execution_count": 30,
     "metadata": {},
     "output_type": "execute_result"
    }
   ],
   "source": [
    "s.iloc(0)"
   ]
  },
  {
   "cell_type": "code",
   "execution_count": 32,
   "id": "483a1a08-357b-4096-acd8-e0ba0ec4f2dd",
   "metadata": {},
   "outputs": [
    {
     "data": {
      "text/plain": [
       "0     NaN\n",
       "1     2.0\n",
       "2     NaN\n",
       "3     4.0\n",
       "4     NaN\n",
       "5     6.0\n",
       "6     NaN\n",
       "7     8.0\n",
       "8     NaN\n",
       "9    10.0\n",
       "dtype: float64"
      ]
     },
     "execution_count": 32,
     "metadata": {},
     "output_type": "execute_result"
    }
   ],
   "source": [
    "s.where(s%2==0)"
   ]
  },
  {
   "cell_type": "code",
   "execution_count": 1,
   "id": "1af06ce5-07cf-4846-8f2f-c3a991a0d4e2",
   "metadata": {},
   "outputs": [
    {
     "data": {
      "text/html": [
       "<div>\n",
       "<style scoped>\n",
       "    .dataframe tbody tr th:only-of-type {\n",
       "        vertical-align: middle;\n",
       "    }\n",
       "\n",
       "    .dataframe tbody tr th {\n",
       "        vertical-align: top;\n",
       "    }\n",
       "\n",
       "    .dataframe thead th {\n",
       "        text-align: right;\n",
       "    }\n",
       "</style>\n",
       "<table border=\"1\" class=\"dataframe\">\n",
       "  <thead>\n",
       "    <tr style=\"text-align: right;\">\n",
       "      <th></th>\n",
       "      <th>order_date</th>\n",
       "      <th>order_no</th>\n",
       "      <th>c_id</th>\n",
       "      <th>c_name</th>\n",
       "      <th>s_code</th>\n",
       "      <th>p_name</th>\n",
       "      <th>qty</th>\n",
       "      <th>price</th>\n",
       "    </tr>\n",
       "  </thead>\n",
       "  <tbody>\n",
       "    <tr>\n",
       "      <th>0</th>\n",
       "      <td>24-07-2016</td>\n",
       "      <td>HM06</td>\n",
       "      <td>9212</td>\n",
       "      <td>Jessica</td>\n",
       "      <td>11</td>\n",
       "      <td>pencil</td>\n",
       "      <td>3</td>\n",
       "      <td>30</td>\n",
       "    </tr>\n",
       "    <tr>\n",
       "      <th>1</th>\n",
       "      <td>19-10-2016</td>\n",
       "      <td>HM09</td>\n",
       "      <td>3921</td>\n",
       "      <td>Mukesh</td>\n",
       "      <td>17</td>\n",
       "      <td>biscuits</td>\n",
       "      <td>10</td>\n",
       "      <td>600</td>\n",
       "    </tr>\n",
       "    <tr>\n",
       "      <th>2</th>\n",
       "      <td>30-10-2016</td>\n",
       "      <td>HM10</td>\n",
       "      <td>9875</td>\n",
       "      <td>Stephen</td>\n",
       "      <td>2</td>\n",
       "      <td>cornoto</td>\n",
       "      <td>10</td>\n",
       "      <td>500</td>\n",
       "    </tr>\n",
       "    <tr>\n",
       "      <th>3</th>\n",
       "      <td>12-04-2018</td>\n",
       "      <td>HM03</td>\n",
       "      <td>1212</td>\n",
       "      <td>Oliver</td>\n",
       "      <td>20</td>\n",
       "      <td>kiwi</td>\n",
       "      <td>3</td>\n",
       "      <td>420</td>\n",
       "    </tr>\n",
       "    <tr>\n",
       "      <th>4</th>\n",
       "      <td>02-05-2018</td>\n",
       "      <td>HM05</td>\n",
       "      <td>1910</td>\n",
       "      <td>Mohan</td>\n",
       "      <td>20</td>\n",
       "      <td>kiwi</td>\n",
       "      <td>2</td>\n",
       "      <td>280</td>\n",
       "    </tr>\n",
       "    <tr>\n",
       "      <th>5</th>\n",
       "      <td>20-09-2018</td>\n",
       "      <td>HM08</td>\n",
       "      <td>5334</td>\n",
       "      <td>Chirsty</td>\n",
       "      <td>16</td>\n",
       "      <td>chocolate</td>\n",
       "      <td>2</td>\n",
       "      <td>50</td>\n",
       "    </tr>\n",
       "    <tr>\n",
       "      <th>6</th>\n",
       "      <td>11-01-2019</td>\n",
       "      <td>HM07</td>\n",
       "      <td>1246</td>\n",
       "      <td>Vignesh</td>\n",
       "      <td>19</td>\n",
       "      <td>apple</td>\n",
       "      <td>5</td>\n",
       "      <td>600</td>\n",
       "    </tr>\n",
       "    <tr>\n",
       "      <th>7</th>\n",
       "      <td>15-03-2019</td>\n",
       "      <td>HM01</td>\n",
       "      <td>1910</td>\n",
       "      <td>Mohan</td>\n",
       "      <td>5</td>\n",
       "      <td>mayanoise</td>\n",
       "      <td>4</td>\n",
       "      <td>360</td>\n",
       "    </tr>\n",
       "    <tr>\n",
       "      <th>8</th>\n",
       "      <td>10-02-2021</td>\n",
       "      <td>HM04</td>\n",
       "      <td>1111</td>\n",
       "      <td>Nisha</td>\n",
       "      <td>25</td>\n",
       "      <td>conditioner</td>\n",
       "      <td>5</td>\n",
       "      <td>1000</td>\n",
       "    </tr>\n",
       "    <tr>\n",
       "      <th>9</th>\n",
       "      <td>12-02-2021</td>\n",
       "      <td>HM02</td>\n",
       "      <td>2123</td>\n",
       "      <td>Biyush</td>\n",
       "      <td>3</td>\n",
       "      <td>Pen</td>\n",
       "      <td>2</td>\n",
       "      <td>20</td>\n",
       "    </tr>\n",
       "  </tbody>\n",
       "</table>\n",
       "</div>"
      ],
      "text/plain": [
       "   order_date order_no  c_id   c_name  s_code       p_name  qty  price\n",
       "0  24-07-2016     HM06  9212  Jessica      11       pencil    3     30\n",
       "1  19-10-2016     HM09  3921   Mukesh      17     biscuits   10    600\n",
       "2  30-10-2016     HM10  9875  Stephen       2      cornoto   10    500\n",
       "3  12-04-2018     HM03  1212   Oliver      20         kiwi    3    420\n",
       "4  02-05-2018     HM05  1910    Mohan      20         kiwi    2    280\n",
       "5  20-09-2018     HM08  5334  Chirsty      16    chocolate    2     50\n",
       "6  11-01-2019     HM07  1246  Vignesh      19        apple    5    600\n",
       "7  15-03-2019     HM01  1910    Mohan       5    mayanoise    4    360\n",
       "8  10-02-2021     HM04  1111    Nisha      25  conditioner    5   1000\n",
       "9  12-02-2021     HM02  2123   Biyush       3          Pen    2     20"
      ]
     },
     "execution_count": 1,
     "metadata": {},
     "output_type": "execute_result"
    }
   ],
   "source": [
    "import pandas as pd\n",
    "df = pd.DataFrame()\n",
    "type(df)\n",
    "pd.core.frame.DataFrame\n",
    "df = pd.read_csv('C:/Users/Admin/Downloads/1642057416_lesson5retail_mart_management_datasets/Lesson 5 - Retail_Mart_Management_Datasets/sales_datasets.csv')\n",
    "df"
   ]
  },
  {
   "cell_type": "code",
   "execution_count": null,
   "id": "e6782de8-9ebf-4d58-8b9f-325ddbe79c52",
   "metadata": {},
   "outputs": [],
   "source": []
  }
 ],
 "metadata": {
  "kernelspec": {
   "display_name": "Python 3 (ipykernel)",
   "language": "python",
   "name": "python3"
  },
  "language_info": {
   "codemirror_mode": {
    "name": "ipython",
    "version": 3
   },
   "file_extension": ".py",
   "mimetype": "text/x-python",
   "name": "python",
   "nbconvert_exporter": "python",
   "pygments_lexer": "ipython3",
   "version": "3.12.4"
  }
 },
 "nbformat": 4,
 "nbformat_minor": 5
}
